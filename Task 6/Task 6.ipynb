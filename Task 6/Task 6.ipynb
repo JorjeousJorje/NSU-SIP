{
 "cells": [
  {
   "cell_type": "code",
   "execution_count": 4,
   "metadata": {},
   "outputs": [],
   "source": [
    "import cv2 as cv\n",
    "import numpy as np\n",
    "from IPython.display import clear_output"
   ]
  },
  {
   "cell_type": "code",
   "execution_count": 5,
   "metadata": {},
   "outputs": [],
   "source": [
    "def show_canny_output(img, img_gray):\n",
    "    edges = cv.Canny(img_gray, 400, 450, apertureSize=5, L2gradient=True)\n",
    "    edges_rgb = np.stack((edges, edges, edges), axis=2)\n",
    "    masked_img = img.copy()\n",
    "    np.putmask(masked_img, edges_rgb > 1, 0)\n",
    "    img_edges_pair = np.hstack((img, edges_rgb, masked_img))\n",
    "    cv.namedWindow(\"canny\", cv.WINDOW_NORMAL)\n",
    "    cv.resizeWindow(\"canny\", 1700, 700)\n",
    "    cv.imshow(\"canny\", img_edges_pair)"
   ]
  },
  {
   "cell_type": "code",
   "execution_count": 8,
   "metadata": {},
   "outputs": [],
   "source": [
    "img = cv.imread(r'circle.png')\n",
    "\n",
    "if img is not None:\n",
    "    \n",
    "    img_gray = cv.cvtColor(img, cv.COLOR_RGB2GRAY)\n",
    "    # show_canny_output(img, img_gray)\n",
    "    \n",
    "    layer = 1\n",
    "    tresh_value = 700            \n",
    "                \n",
    "                \n",
    "    \n",
    "    def update():\n",
    "        \n",
    "        img_copy = img.copy()\n",
    "        mask = np.zeros_like(img_copy)\n",
    "        edges = cv.Canny(img_gray, tresh_value, tresh_value * 2, apertureSize=5, L2gradient=True)\n",
    "        contours, hierarchy = cv.findContours(edges, cv.RETR_TREE, cv.CHAIN_APPROX_SIMPLE)\n",
    "        cv.drawContours(img_copy, contours, -1, (255,0,0), 2, cv.LINE_AA, hierarchy, layer)\n",
    "        cv.drawContours(mask, contours, -1, (255,0,0), 2, cv.LINE_AA, hierarchy, layer)\n",
    "        # clear_output(wait=True)\n",
    "        # print(\"Figure Are in persents to the whole picture: \",  cv.contourArea(contours[0]) / mask.size * 100)\n",
    "        cv.imshow(\"contours\", mask)\n",
    "    \n",
    "    def update_layer(v: int):\n",
    "        global layer\n",
    "        layer = v\n",
    "        update()\n",
    "    \n",
    "    def tresh_callback(input_tresh: int):\n",
    "        global tresh_value\n",
    "        min_tresh = 100\n",
    "        tresh_value = input_tresh * 100 + min_tresh\n",
    "        update()\n",
    "        \n",
    "    cv.namedWindow(\"contours\", cv.WINDOW_NORMAL)\n",
    "    cv.resizeWindow(\"contours\", 1700, 700)\n",
    "    cv.createTrackbar(\"tresh\", \"contours\", 6, 100, tresh_callback)\n",
    "    cv.createTrackbar(\"layer\", \"contours\", 1, 7, update_layer)\n",
    "    cv.waitKey()\n",
    "    \n",
    "else:\n",
    "    print(\"Can't load image!\")"
   ]
  },
  {
   "cell_type": "code",
   "execution_count": null,
   "metadata": {},
   "outputs": [],
   "source": [
    "\n"
   ]
  },
  {
   "cell_type": "code",
   "execution_count": null,
   "metadata": {},
   "outputs": [],
   "source": []
  }
 ],
 "metadata": {
  "interpreter": {
   "hash": "ac59ebe37160ed0dfa835113d9b8498d9f09ceb179beaac4002f036b9467c963"
  },
  "kernelspec": {
   "display_name": "Python 3.9.7 64-bit",
   "name": "python3"
  },
  "language_info": {
   "codemirror_mode": {
    "name": "ipython",
    "version": 3
   },
   "file_extension": ".py",
   "mimetype": "text/x-python",
   "name": "python",
   "nbconvert_exporter": "python",
   "pygments_lexer": "ipython3",
   "version": "3.9.7"
  },
  "orig_nbformat": 4
 },
 "nbformat": 4,
 "nbformat_minor": 2
}
