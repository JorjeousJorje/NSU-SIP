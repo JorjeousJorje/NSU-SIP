{
 "cells": [
  {
   "cell_type": "code",
   "execution_count": 27,
   "source": [
    "import cv2 as cv\r\n",
    "import numpy as np"
   ],
   "outputs": [],
   "metadata": {}
  },
  {
   "cell_type": "code",
   "execution_count": 28,
   "source": [
    "def show_canny_output(img, img_gray):\r\n",
    "    edges = cv.Canny(img_gray, 400, 450, apertureSize=5, L2gradient=True)\r\n",
    "    edges_rgb = np.stack((edges, edges, edges), axis=2)\r\n",
    "    masked_img = img.copy()\r\n",
    "    np.putmask(masked_img, edges_rgb > 1, 0)\r\n",
    "    img_edges_pair = np.hstack((img, edges_rgb, masked_img))\r\n",
    "    cv.namedWindow(\"canny\", cv.WINDOW_NORMAL)\r\n",
    "    cv.resizeWindow(\"canny\", 1700, 700)\r\n",
    "    cv.imshow(\"canny\", img_edges_pair)"
   ],
   "outputs": [],
   "metadata": {}
  },
  {
   "cell_type": "code",
   "execution_count": 33,
   "source": [
    "img = cv.imread(r'cards_2.jpg')\r\n",
    "\r\n",
    "if img is not None:\r\n",
    "    \r\n",
    "    img_gray = cv.cvtColor(img, cv.COLOR_RGB2GRAY)\r\n",
    "    show_canny_output(img, img_gray)\r\n",
    "    \r\n",
    "    layer = 0\r\n",
    "    tresh_value = 100\r\n",
    "    \r\n",
    "    def update():\r\n",
    "        img_copy = img.copy()\r\n",
    "        edges = cv.Canny(img_gray, tresh_value, tresh_value * 2, apertureSize=5, L2gradient=True)\r\n",
    "        contours, hierarchy = cv.findContours(edges, cv.RETR_TREE, cv.CHAIN_APPROX_SIMPLE)\r\n",
    "        cv.drawContours( img_copy, contours, -1, (255,0,0), 2, cv.LINE_AA, hierarchy, layer)\r\n",
    "        cv.imshow(\"contours\", img_copy)\r\n",
    "    \r\n",
    "    def update_layer(v: int):\r\n",
    "        global layer\r\n",
    "        layer = v\r\n",
    "        update()\r\n",
    "    \r\n",
    "    def tresh_callback(input_tresh: int):\r\n",
    "        global tresh_value\r\n",
    "        min_tresh = 100\r\n",
    "        tresh_value = input_tresh * 100 + min_tresh\r\n",
    "        update()\r\n",
    "        \r\n",
    "    cv.namedWindow(\"contours\", cv.WINDOW_NORMAL)\r\n",
    "    cv.resizeWindow(\"contours\", 1700, 700)\r\n",
    "    cv.createTrackbar(\"tresh\", \"contours\", 1, 100, tresh_callback)\r\n",
    "    cv.createTrackbar(\"layer\", \"contours\", 0, 7, update_layer)\r\n",
    "    cv.waitKey()\r\n",
    "    \r\n",
    "else:\r\n",
    "    print(\"Can't load image!\")"
   ],
   "outputs": [],
   "metadata": {}
  },
  {
   "cell_type": "code",
   "execution_count": null,
   "source": [],
   "outputs": [],
   "metadata": {}
  }
 ],
 "metadata": {
  "orig_nbformat": 4,
  "language_info": {
   "name": "python",
   "version": "3.9.7",
   "mimetype": "text/x-python",
   "codemirror_mode": {
    "name": "ipython",
    "version": 3
   },
   "pygments_lexer": "ipython3",
   "nbconvert_exporter": "python",
   "file_extension": ".py"
  },
  "kernelspec": {
   "name": "python3",
   "display_name": "Python 3.9.7 64-bit"
  },
  "interpreter": {
   "hash": "ac59ebe37160ed0dfa835113d9b8498d9f09ceb179beaac4002f036b9467c963"
  }
 },
 "nbformat": 4,
 "nbformat_minor": 2
}