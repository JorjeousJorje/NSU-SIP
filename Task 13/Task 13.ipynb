{
 "cells": [
  {
   "cell_type": "code",
   "execution_count": 2,
   "metadata": {},
   "outputs": [],
   "source": [
    "import cv2 as cv\n",
    "import os\n",
    "import numpy as np\n",
    "import collections\n",
    "import matplotlib.pyplot as plt\n",
    "\n",
    "\n",
    "from tools import *"
   ]
  },
  {
   "cell_type": "code",
   "execution_count": 3,
   "metadata": {},
   "outputs": [],
   "source": [
    "# img_rgb = scale_img(img_rgb, 0.95)\n",
    "# height, width = img_rgb.shape[:2]\n",
    "# center = (width/2, height/2)\n",
    "# rotate_matrix = cv.getRotationMatrix2D(center=center, angle=3, scale=0.97)\n",
    "# img_rgb = cv.warpAffine(src=img_rgb, M=rotate_matrix, dsize=(width, height))\n",
    "# img_rgb = add_noise(img_rgb, 30)\n",
    "# img_rgb = set_brightness(img_rgb, 10)\n",
    "# img_rgb = set_contrast(img_rgb, 20)\n",
    "\n",
    "templates_path = os.listdir(\"number templates\")\n",
    "templates: list[np.ndarray] = [cv.imread(\"number templates\" + os.sep + path, 0) for path in templates_path]"
   ]
  },
  {
   "cell_type": "code",
   "execution_count": 15,
   "metadata": {},
   "outputs": [
    {
     "name": "stdout",
     "output_type": "stream",
     "text": [
      "Game time -> 48:[5, 7]\n"
     ]
    }
   ],
   "source": [
    "img_rgb: np.ndarray = cv.imread(\"48-57.jpg\")\n",
    "img_rgb: np.ndarray = cv.cvtColor(img_rgb, cv.COLOR_BGR2RGB)\n",
    "img_gray = cv.cvtColor(img_rgb, cv.COLOR_RGB2GRAY)\n",
    "\n",
    "\n",
    "loc_to_temp = {}\n",
    "for i, template in enumerate(templates):\n",
    "    res = cv.matchTemplate(img_gray, template, cv.TM_CCOEFF_NORMED)\n",
    "    threshold = 0.93\n",
    "    loc = np.where(res >= threshold)\n",
    "    for pt in zip(*loc[::-1]):\n",
    "        x = pt[0]\n",
    "        loc_to_temp[x] = i\n",
    "\n",
    "\n",
    "od = collections.OrderedDict(sorted(loc_to_temp.items()))\n",
    "\n",
    "time = list(od.values())\n",
    "minutes = \"\".join(str(minute_element) for minute_element in time[:2])\n",
    "seconds = \"\".join(str(second_element) for second_element in time[2:])\n",
    "print(f\"Game time -> {minutes}:{seconds}\")"
   ]
  },
  {
   "cell_type": "code",
   "execution_count": null,
   "metadata": {},
   "outputs": [],
   "source": []
  }
 ],
 "metadata": {
  "interpreter": {
   "hash": "ac59ebe37160ed0dfa835113d9b8498d9f09ceb179beaac4002f036b9467c963"
  },
  "kernelspec": {
   "display_name": "Python 3.9.7 64-bit",
   "language": "python",
   "name": "python3"
  },
  "language_info": {
   "codemirror_mode": {
    "name": "ipython",
    "version": 3
   },
   "file_extension": ".py",
   "mimetype": "text/x-python",
   "name": "python",
   "nbconvert_exporter": "python",
   "pygments_lexer": "ipython3",
   "version": "3.9.7"
  },
  "orig_nbformat": 4
 },
 "nbformat": 4,
 "nbformat_minor": 2
}
