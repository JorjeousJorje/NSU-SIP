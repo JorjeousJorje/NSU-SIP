{
 "cells": [
  {
   "cell_type": "code",
   "execution_count": 4,
   "metadata": {},
   "outputs": [],
   "source": [
    "import cv2 as cv\n",
    "import numpy as np"
   ]
  },
  {
   "cell_type": "code",
   "execution_count": 5,
   "metadata": {},
   "outputs": [],
   "source": [
    "def show_video(cap):\n",
    "    if (cap.isOpened() == False):\n",
    "        print(\"Error opening video stream or file\")\n",
    "\n",
    "    knn = cv.createBackgroundSubtractorKNN()\n",
    "    mog = cv.createBackgroundSubtractorMOG2()\n",
    "    kernel = cv.getStructuringElement(cv.MORPH_ELLIPSE, (3, 3))\n",
    "    \n",
    "    while True:\n",
    "        ret, frame = cap.read()\n",
    "        if ret == True:\n",
    "            frame = cv.resize(frame, (500, 500))\n",
    "            \n",
    "            filtered_knn = knn.apply(frame)\n",
    "            filtered_mog = mog.apply(frame)\n",
    "            \n",
    "            filtered_mog = cv.morphologyEx(filtered_mog, cv.MORPH_OPEN, kernel)\n",
    "            filtered_knn = cv.morphologyEx(filtered_knn, cv.MORPH_OPEN, kernel)\n",
    "            \n",
    "            filtered_mog = cv.cvtColor(filtered_mog, cv.COLOR_GRAY2RGB)\n",
    "            filtered_knn = cv.cvtColor(filtered_knn, cv.COLOR_GRAY2RGB)\n",
    "            \n",
    "            result_mog_knn = np.hstack((frame, filtered_mog, filtered_knn))\n",
    "            \n",
    "            cv.imshow('MOG and KNN', result_mog_knn)\n",
    "            \n",
    "            if cv.waitKey(20) & 0xFF == ord('q'):\n",
    "                break\n",
    "            \n",
    "        else:\n",
    "            cap.set(cv.CAP_PROP_POS_FRAMES, 0)"
   ]
  },
  {
   "cell_type": "code",
   "execution_count": 6,
   "metadata": {},
   "outputs": [],
   "source": [
    "cap = cv.VideoCapture('16.1.mp4')\n",
    "show_video(cap)\n",
    "\n",
    "cap.release()\n",
    "cv.destroyAllWindows()"
   ]
  },
  {
   "cell_type": "code",
   "execution_count": null,
   "metadata": {},
   "outputs": [],
   "source": []
  }
 ],
 "metadata": {
  "interpreter": {
   "hash": "55c84c6315d2a3f676de743282b6f0c3e31ce074d8b22680513fe7aea19c348e"
  },
  "kernelspec": {
   "display_name": "Python 3.9.5 64-bit",
   "language": "python",
   "name": "python3"
  },
  "language_info": {
   "codemirror_mode": {
    "name": "ipython",
    "version": 3
   },
   "file_extension": ".py",
   "mimetype": "text/x-python",
   "name": "python",
   "nbconvert_exporter": "python",
   "pygments_lexer": "ipython3",
   "version": "3.9.7"
  },
  "orig_nbformat": 4
 },
 "nbformat": 4,
 "nbformat_minor": 2
}
