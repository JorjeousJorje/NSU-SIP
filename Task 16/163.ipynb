{
 "cells": [
  {
   "cell_type": "code",
   "execution_count": 7,
   "metadata": {},
   "outputs": [],
   "source": [
    "import cv2 as cv\n",
    "import numpy as np\n",
    "\n",
    "import torch\n",
    "import torchvision\n",
    "import torchvision.utils\n",
    "from torchvision.models import detection\n",
    "from torchvision.models.detection.faster_rcnn import FastRCNNPredictor"
   ]
  },
  {
   "cell_type": "code",
   "execution_count": 8,
   "metadata": {},
   "outputs": [],
   "source": [
    "device = torch.device(\"cuda:0\")\n",
    "\n",
    "model = torchvision.models.detection.fasterrcnn_mobilenet_v3_large_fpn(pretrained=True)\n",
    "model.eval()\n",
    "model = model.float().to(device)"
   ]
  },
  {
   "cell_type": "code",
   "execution_count": 9,
   "metadata": {},
   "outputs": [],
   "source": [
    "cap = cv.VideoCapture('mems.mp4')\n",
    "\n",
    "threshold = 0.85\n",
    "while True:\n",
    "    ret, frame = cap.read()\n",
    "    \n",
    "    if ret:\n",
    "        frame = torch.tensor(np.swapaxes(np.swapaxes(frame, 0, 2), 1, 2)).float() / 255\n",
    "        label = model([frame.to(device)])[0]\n",
    "        frame =  frame.permute(1, 2, 0).detach().cpu().numpy()\n",
    "        \n",
    "        if label != None:\n",
    "            for i in range(len(label[\"labels\"])):\n",
    "                \n",
    "                if label[\"scores\"][i] > threshold and label[\"labels\"][i] == 1:\n",
    "                    frame = cv.rectangle(frame, \n",
    "                                        (int(label['boxes'][i][0]), int(label['boxes'][i][1]) ), \n",
    "                                        (int(label['boxes'][i][2]), int(label['boxes'][i][3])), \n",
    "                                        (255, 255, 0), 1)\n",
    "        \n",
    "        cv.imshow('frame', frame)\n",
    "        if cv.waitKey(15) & 0xFF == ord('q'):\n",
    "            break\n",
    "    else:\n",
    "        cap.set(cv.CAP_PROP_POS_FRAMES, 0)\n",
    "\n",
    "cap.release()\n",
    "cv.destroyAllWindows()"
   ]
  },
  {
   "cell_type": "code",
   "execution_count": null,
   "metadata": {},
   "outputs": [],
   "source": []
  }
 ],
 "metadata": {
  "interpreter": {
   "hash": "55c84c6315d2a3f676de743282b6f0c3e31ce074d8b22680513fe7aea19c348e"
  },
  "kernelspec": {
   "display_name": "Python 3.9.5 64-bit",
   "language": "python",
   "name": "python3"
  },
  "language_info": {
   "codemirror_mode": {
    "name": "ipython",
    "version": 3
   },
   "file_extension": ".py",
   "mimetype": "text/x-python",
   "name": "python",
   "nbconvert_exporter": "python",
   "pygments_lexer": "ipython3",
   "version": "3.9.7"
  },
  "orig_nbformat": 4
 },
 "nbformat": 4,
 "nbformat_minor": 2
}
